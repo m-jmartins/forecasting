{
 "cells": [
  {
   "cell_type": "markdown",
   "id": "e7e5282a",
   "metadata": {},
   "source": [
    "# Forecasting com a biblioteca Prophet\n",
    "Artigo sobre o Prophet: https://peerj.com/preprints/3190/<br>\n",
    "Documentação: https://facebook.github.io/prophet/docs/quick_start.html#python-api"
   ]
  },
  {
   "cell_type": "code",
   "execution_count": 1,
   "id": "6c56572e",
   "metadata": {
    "scrolled": true
   },
   "outputs": [],
   "source": [
    "# %pip install pandas\n",
    "# %pip install gspread\n",
    "# %pip install gspread_dataframe\n",
    "# %pip install tqdm\n",
    "# %pip install prophet\n",
    "# %pip install python-dotenv\n",
    "# %pip install boto3\n",
    "# %pip install awswrangler"
   ]
  },
  {
   "cell_type": "code",
   "execution_count": 2,
   "id": "aa3a0739",
   "metadata": {},
   "outputs": [
    {
     "data": {
      "text/plain": [
       "True"
      ]
     },
     "execution_count": 2,
     "metadata": {},
     "output_type": "execute_result"
    }
   ],
   "source": [
    "import os\n",
    "import pandas as pd\n",
    "import gspread\n",
    "import gspread_dataframe as gd\n",
    "import time\n",
    "import awswrangler as wr\n",
    "import boto3\n",
    "\n",
    "from tqdm.auto import tqdm\n",
    "from datetime import datetime\n",
    "from prophet import Prophet\n",
    "from dotenv import load_dotenv\n",
    "\n",
    "load_dotenv()"
   ]
  },
  {
   "cell_type": "code",
   "execution_count": 3,
   "id": "9d5ca679",
   "metadata": {},
   "outputs": [],
   "source": [
    "## Configurando credenciais google sheets\n",
    "gc = gspread.service_account(filename = 'key.json')\n",
    "sh = gc.open_by_key(os.environ.get('CODE_SHEET'))\n",
    "sh_sazonalidade = gc.open_by_key(os.environ.get('CODE_SHEET_SAZONALIDADE'))"
   ]
  },
  {
   "cell_type": "markdown",
   "id": "1ff32162",
   "metadata": {},
   "source": [
    "## Extraindo os dados do Data Lake"
   ]
  },
  {
   "cell_type": "code",
   "execution_count": 4,
   "id": "0b4a3072",
   "metadata": {},
   "outputs": [],
   "source": [
    "def query_data_lake(query):\n",
    "    my_session = boto3.session.Session(\n",
    "        aws_access_key_id=os.environ.get('AWS_ACCESS_KEY_ID'),\n",
    "        aws_secret_access_key=os.environ.get('AWS_SECRET_ACCESS_KEY'),\n",
    "        region_name='us-east-1'\n",
    "    )\n",
    "\n",
    "    df = wr.athena.read_sql_query(query, database=\"dw_bs\", ctas_approach=False, boto3_session=my_session)\n",
    "\n",
    "    return df"
   ]
  },
  {
   "cell_type": "code",
   "execution_count": 5,
   "id": "8746117b",
   "metadata": {},
   "outputs": [],
   "source": [
    "def gerar_dados_completos():\n",
    "    print('Generating data...')\n",
    "    inicio = time.time()\n",
    "    dados = query_data_lake(\n",
    "    \"\"\"\n",
    "        select \n",
    "            date,\n",
    "            business_model,\n",
    "            sum(gmv) as gmv,\n",
    "            sum(tickets) as ticket\n",
    "        from ft_results\n",
    "        where year(date) >= 2017\n",
    "        group by 1, 2\n",
    "        order by 1\n",
    "    \"\"\"\n",
    "    )\n",
    "\n",
    "    gd.set_with_dataframe(worksheet=sh_sazonalidade.worksheet('Realizado'), dataframe=dados, include_index=False, \\\n",
    "                          include_column_header=True, resize=True)\n",
    "    \n",
    "    dados['gmv'] = dados['gmv'].astype('float')\n",
    "    dados['ano'] = pd.DatetimeIndex(dados['date']).year\n",
    "    dados['mes'] = pd.DatetimeIndex(dados['date']).month\n",
    "    \n",
    "    gd.set_with_dataframe(worksheet=sh.worksheet('Dados'), dataframe=dados, include_index=False, \\\n",
    "                          include_column_header=True, resize=True)\n",
    "    \n",
    "    total = dados.groupby('date', as_index=False)[['gmv', 'ticket']].sum()\n",
    "    total.columns = ['date', 'gmv_total', 'ticket_total']\n",
    "\n",
    "    pivot = pd.pivot_table(data=dados, index='date', columns=['business_model'], values=['gmv', 'ticket'])\n",
    "    pivot = pivot.reset_index().dropna(axis=1)\n",
    "    pivot.columns = ['date', 'gmv_ota', 'gmv_outras_otas', 'gmv_parc', 'gmv_wl', 'ticket_ota', 'ticket_outras_otas','ticket_parc', 'ticket_wl']\n",
    "    pivot = pivot.drop(columns=['gmv_outras_otas','ticket_outras_otas'])\n",
    "    \n",
    "    join = pd.merge(pivot, total, on='date')\n",
    "    join.to_csv('data/gmv_full.csv', sep=',', index=False)\n",
    "    fim = time.time()\n",
    "    \n",
    "    print(f'Data generated! Time: {fim - inicio} s')"
   ]
  },
  {
   "cell_type": "markdown",
   "id": "c4eeb8ec",
   "metadata": {},
   "source": [
    "## Aplicando Prophet"
   ]
  },
  {
   "cell_type": "code",
   "execution_count": 6,
   "id": "fff9f66f",
   "metadata": {},
   "outputs": [],
   "source": [
    "def high_season(ds):\n",
    "    date = pd.to_datetime(ds)\n",
    "    return date.month == 12 or date.month == 7"
   ]
  },
  {
   "cell_type": "code",
   "execution_count": 7,
   "id": "afba6aaf",
   "metadata": {},
   "outputs": [],
   "source": [
    "def modelo(dados, metrica, data_corte, holidays):\n",
    "    dados['ds'] = pd.to_datetime(dados['ds'])\n",
    "    \n",
    "    # Removendo dos dados o período da queda de vendas na pandemia\n",
    "    # dados.loc[(dados['ds'] > '2020-03-14') & (dados['ds'] < '2020-07-01'), 'y'] = None\n",
    "\n",
    "    # Aplicando o regressor da high season\n",
    "    dados['high_season'] = dados['ds'].apply(high_season)\n",
    "    \n",
    "    # Modelo preditivo \n",
    "    modelo = Prophet(holidays                = holidays.copy(),\n",
    "                     daily_seasonality       = False, \n",
    "                     weekly_seasonality      = True, \n",
    "                     yearly_seasonality      = True,\n",
    "                     interval_width          = 0.8,\n",
    "                     n_changepoints          = 25,\n",
    "                     changepoint_range       = 0.85,\n",
    "                     changepoint_prior_scale = 0.01,\n",
    "                     holidays_prior_scale    = 1.0,\n",
    "                     seasonality_prior_scale = 1.0, \n",
    "                     seasonality_mode        = 'multiplicative')\n",
    "    modelo.add_regressor('high_season')\n",
    "    \n",
    "    modelo.fit(dados[dados['ds'] <= data_corte])\n",
    "    \n",
    "    return modelo"
   ]
  },
  {
   "cell_type": "code",
   "execution_count": 8,
   "id": "3ce38522",
   "metadata": {},
   "outputs": [],
   "source": [
    "def previsao(modelo, data_corte, data_previsao):\n",
    "    # Definindo o período para previsão\n",
    "    data_corte = datetime.strptime(data_corte, \"%Y-%m-%d\")\n",
    "    data_previsao = datetime.strptime(data_previsao, \"%Y-%m-%d\")\n",
    "    period = data_previsao - data_corte\n",
    "    \n",
    "    data_futuro = modelo.make_future_dataframe(periods=period.days)\n",
    "    data_futuro['high_season'] = data_futuro['ds'].apply(high_season)\n",
    "    previsao = modelo.predict(data_futuro)\n",
    "    \n",
    "#     previsao['yhat'] = previsao['yhat'] * 1.05 #apply(lambda x: x*1.05) \n",
    "    \n",
    "    return previsao"
   ]
  },
  {
   "cell_type": "code",
   "execution_count": 9,
   "id": "f6480b13",
   "metadata": {},
   "outputs": [],
   "source": [
    "# Variaveis a serem modificadas #\n",
    "data_inicio_previsao = '2024-08-01'\n",
    "data_fim_previsao = '2024-12-31'\n",
    "gerar_dados = 1 # caso o dataset esteja desatualizado ou não exista, 1 para gerar ou atualizar e 0 caso contrário"
   ]
  },
  {
   "cell_type": "code",
   "execution_count": 11,
   "id": "dd5431e0",
   "metadata": {},
   "outputs": [
    {
     "ename": "IndentationError",
     "evalue": "unindent does not match any outer indentation level (<tokenize>, line 16)",
     "output_type": "error",
     "traceback": [
      "\u001b[0;36m  File \u001b[0;32m<tokenize>:16\u001b[0;36m\u001b[0m\n\u001b[0;31m    dados.columns = ['ds', 'y']\u001b[0m\n\u001b[0m    ^\u001b[0m\n\u001b[0;31mIndentationError\u001b[0m\u001b[0;31m:\u001b[0m unindent does not match any outer indentation level\n"
     ]
    }
   ],
   "source": [
    "metricas = ['gmv_total', 'gmv_ota', 'gmv_parc', 'gmv_wl', 'ticket_total', 'ticket_ota', 'ticket_parc', 'ticket_wl']\n",
    "\n",
    "calendar = pd.read_table('data/calendar.tsv')\n",
    "holidays = calendar[(calendar['ds'] >= '2018-01-01') & (calendar['ds'] <= '2024-12-31')]\n",
    "\n",
    "if gerar_dados:\n",
    "    gerar_dados_completos()\n",
    "\n",
    "dataset = pd.read_csv('data/gmv_full.csv')\n",
    "dt_cal = dataset['date'].iloc[-1]   # data até onde tem dados reais; ou pode ser definida uma outra data especifica\n",
    "# dt_cal = '2024-06-24'\n",
    "\n",
    "for metrica in tqdm(metricas):\n",
    "    # dados = dataset[['date', metrica]].copy()\n",
    "        dados = dataset[dataset['date'] >= '2018-01-01'][['date', metrica]].copy()\n",
    "    dados.columns = ['ds', 'y']\n",
    "    \n",
    "    model = modelo(dados, metrica, dt_cal, holidays) \n",
    "    forecast = previsao(model, dt_cal, data_fim_previsao)\n",
    "    \n",
    "    forecast = forecast[['ds', 'yhat_lower', 'yhat_upper', 'yhat']]\n",
    "    forecast = forecast[forecast['ds'] >= data_inicio_previsao]\n",
    "    \n",
    "    dados['ds'] = pd.to_datetime(dados['ds']) # necessario para fazer o merge\n",
    "    dados = dados[['ds', 'y']]\n",
    "    \n",
    "    forecast = pd.merge(forecast, dados, how='left', on='ds')\n",
    "    \n",
    "    gd.set_with_dataframe(worksheet=sh.worksheet(metrica), dataframe=forecast, include_index=False, \\\n",
    "                          include_column_header=True, resize=True)\n",
    "    \n",
    "    # forecast.to_csv('previsoes/'+metrica+'.csv', sep=',', index=False)"
   ]
  }
 ],
 "metadata": {
  "kernelspec": {
   "display_name": "Python 3 (ipykernel)",
   "language": "python",
   "name": "python3"
  },
  "language_info": {
   "codemirror_mode": {
    "name": "ipython",
    "version": 3
   },
   "file_extension": ".py",
   "mimetype": "text/x-python",
   "name": "python",
   "nbconvert_exporter": "python",
   "pygments_lexer": "ipython3",
   "version": "3.10.12"
  }
 },
 "nbformat": 4,
 "nbformat_minor": 5
}
